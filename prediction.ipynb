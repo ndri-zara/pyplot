{
 "cells": [
  {
   "cell_type": "code",
   "execution_count": 1,
   "metadata": {},
   "outputs": [],
   "source": [
    "import pandas as pd"
   ]
  },
  {
   "cell_type": "code",
   "execution_count": 2,
   "metadata": {},
   "outputs": [],
   "source": [
    "import matplotlib.pyplot as plt"
   ]
  },
  {
   "cell_type": "code",
   "execution_count": 3,
   "metadata": {},
   "outputs": [],
   "source": [
    "import numpy as np"
   ]
  },
  {
   "cell_type": "code",
   "execution_count": 4,
   "metadata": {},
   "outputs": [],
   "source": [
    "table = pd.read_table('heart.txt')"
   ]
  },
  {
   "cell_type": "code",
   "execution_count": 5,
   "metadata": {},
   "outputs": [],
   "source": [
    "table5 = table.replace(regex={r'presence': '0', 'absence': '1'})\n",
    "\n",
    "table6 = table5.replace(regex={r'non': '0', 'oui': '1'})\n",
    "\n",
    "table7 = table6.replace(regex={r'A': '0', 'B': '1', 'C': '2', 'D': '3'})\n",
    "\n",
    "table7\n",
    "\n",
    "table8 = table7.replace(regex={r'masculin': '0', 'feminin': '1'})"
   ]
  },
  {
   "cell_type": "code",
   "execution_count": 6,
   "metadata": {},
   "outputs": [
    {
     "data": {
      "text/plain": [
       "age            int64\n",
       "sexe          object\n",
       "pression       int64\n",
       "cholester      int64\n",
       "sucre         object\n",
       "electro       object\n",
       "taux_max       int64\n",
       "angine        object\n",
       "depression     int64\n",
       "pic            int64\n",
       "vaisseau      object\n",
       "coeur         object\n",
       "dtype: object"
      ]
     },
     "execution_count": 6,
     "metadata": {},
     "output_type": "execute_result"
    }
   ],
   "source": [
    "table8.dtypes"
   ]
  },
  {
   "cell_type": "code",
   "execution_count": 9,
   "metadata": {},
   "outputs": [
    {
     "ename": "NameError",
     "evalue": "name 'table9' is not defined",
     "output_type": "error",
     "traceback": [
      "\u001b[1;31m---------------------------------------------------------------------------\u001b[0m",
      "\u001b[1;31mNameError\u001b[0m                                 Traceback (most recent call last)",
      "\u001b[1;32m<ipython-input-9-f9a4d2f1571a>\u001b[0m in \u001b[0;36m<module>\u001b[1;34m\u001b[0m\n\u001b[1;32m----> 1\u001b[1;33m \u001b[0mtable9\u001b[0m\u001b[1;33m.\u001b[0m\u001b[0mdtypes\u001b[0m\u001b[1;33m\u001b[0m\u001b[1;33m\u001b[0m\u001b[0m\n\u001b[0m",
      "\u001b[1;31mNameError\u001b[0m: name 'table9' is not defined"
     ]
    }
   ],
   "source": [
    "table9.dtypes"
   ]
  },
  {
   "cell_type": "code",
   "execution_count": 10,
   "metadata": {},
   "outputs": [
    {
     "data": {
      "text/plain": [
       "age           int32\n",
       "sexe          int32\n",
       "pression      int32\n",
       "cholester     int32\n",
       "sucre         int32\n",
       "electro       int32\n",
       "taux_max      int32\n",
       "angine        int32\n",
       "depression    int32\n",
       "pic           int32\n",
       "vaisseau      int32\n",
       "coeur         int32\n",
       "dtype: object"
      ]
     },
     "execution_count": 10,
     "metadata": {},
     "output_type": "execute_result"
    }
   ],
   "source": [
    "table9 = table8.astype(int)\n",
    "table9.dtypes"
   ]
  },
  {
   "cell_type": "code",
   "execution_count": 11,
   "metadata": {},
   "outputs": [],
   "source": [
    "#nous allons maintenant faire de la régression logistique pour predire la probabilité qu'un indivudu soit atteint de maladie \n",
    "#cardiaque"
   ]
  },
  {
   "cell_type": "code",
   "execution_count": 49,
   "metadata": {},
   "outputs": [],
   "source": [
    "#avant tout nous définissons notre variable à predire le coeur et les variables susceptibles d'expliquer une maladie du coeur\n",
    "X=table9[['sexe', 'angine','vaisseau', 'taux_max', 'cholester']]\n",
    "y=table9['coeur']"
   ]
  },
  {
   "cell_type": "code",
   "execution_count": 50,
   "metadata": {},
   "outputs": [],
   "source": [
    "#pour commencer, nous effectuons une validation croisée classique sur notre jeu de donnée, soit 75% des données participerons\n",
    "#à l'entrainement et les 25% des données restantes serviront au test.\n",
    "from sklearn.model_selection import train_test_split\n",
    "\n",
    "X_train,X_test,y_train,y_test=train_test_split(X,y,test_size=0.25,random_state=0)"
   ]
  },
  {
   "cell_type": "code",
   "execution_count": 51,
   "metadata": {},
   "outputs": [
    {
     "data": {
      "text/html": [
       "<div>\n",
       "<style scoped>\n",
       "    .dataframe tbody tr th:only-of-type {\n",
       "        vertical-align: middle;\n",
       "    }\n",
       "\n",
       "    .dataframe tbody tr th {\n",
       "        vertical-align: top;\n",
       "    }\n",
       "\n",
       "    .dataframe thead th {\n",
       "        text-align: right;\n",
       "    }\n",
       "</style>\n",
       "<table border=\"1\" class=\"dataframe\">\n",
       "  <thead>\n",
       "    <tr style=\"text-align: right;\">\n",
       "      <th></th>\n",
       "      <th>sexe</th>\n",
       "      <th>angine</th>\n",
       "      <th>vaisseau</th>\n",
       "      <th>taux_max</th>\n",
       "      <th>cholester</th>\n",
       "    </tr>\n",
       "  </thead>\n",
       "  <tbody>\n",
       "    <tr>\n",
       "      <th>158</th>\n",
       "      <td>1</td>\n",
       "      <td>0</td>\n",
       "      <td>0</td>\n",
       "      <td>170</td>\n",
       "      <td>304</td>\n",
       "    </tr>\n",
       "    <tr>\n",
       "      <th>125</th>\n",
       "      <td>1</td>\n",
       "      <td>0</td>\n",
       "      <td>1</td>\n",
       "      <td>130</td>\n",
       "      <td>265</td>\n",
       "    </tr>\n",
       "    <tr>\n",
       "      <th>106</th>\n",
       "      <td>0</td>\n",
       "      <td>0</td>\n",
       "      <td>0</td>\n",
       "      <td>178</td>\n",
       "      <td>298</td>\n",
       "    </tr>\n",
       "    <tr>\n",
       "      <th>18</th>\n",
       "      <td>1</td>\n",
       "      <td>0</td>\n",
       "      <td>0</td>\n",
       "      <td>133</td>\n",
       "      <td>313</td>\n",
       "    </tr>\n",
       "    <tr>\n",
       "      <th>137</th>\n",
       "      <td>1</td>\n",
       "      <td>1</td>\n",
       "      <td>0</td>\n",
       "      <td>152</td>\n",
       "      <td>236</td>\n",
       "    </tr>\n",
       "    <tr>\n",
       "      <th>...</th>\n",
       "      <td>...</td>\n",
       "      <td>...</td>\n",
       "      <td>...</td>\n",
       "      <td>...</td>\n",
       "      <td>...</td>\n",
       "    </tr>\n",
       "    <tr>\n",
       "      <th>251</th>\n",
       "      <td>0</td>\n",
       "      <td>0</td>\n",
       "      <td>3</td>\n",
       "      <td>139</td>\n",
       "      <td>188</td>\n",
       "    </tr>\n",
       "    <tr>\n",
       "      <th>192</th>\n",
       "      <td>0</td>\n",
       "      <td>0</td>\n",
       "      <td>0</td>\n",
       "      <td>171</td>\n",
       "      <td>266</td>\n",
       "    </tr>\n",
       "    <tr>\n",
       "      <th>117</th>\n",
       "      <td>0</td>\n",
       "      <td>1</td>\n",
       "      <td>0</td>\n",
       "      <td>125</td>\n",
       "      <td>174</td>\n",
       "    </tr>\n",
       "    <tr>\n",
       "      <th>47</th>\n",
       "      <td>0</td>\n",
       "      <td>0</td>\n",
       "      <td>2</td>\n",
       "      <td>175</td>\n",
       "      <td>255</td>\n",
       "    </tr>\n",
       "    <tr>\n",
       "      <th>172</th>\n",
       "      <td>0</td>\n",
       "      <td>0</td>\n",
       "      <td>0</td>\n",
       "      <td>165</td>\n",
       "      <td>211</td>\n",
       "    </tr>\n",
       "  </tbody>\n",
       "</table>\n",
       "<p>202 rows × 5 columns</p>\n",
       "</div>"
      ],
      "text/plain": [
       "     sexe  angine  vaisseau  taux_max  cholester\n",
       "158     1       0         0       170        304\n",
       "125     1       0         1       130        265\n",
       "106     0       0         0       178        298\n",
       "18      1       0         0       133        313\n",
       "137     1       1         0       152        236\n",
       "..    ...     ...       ...       ...        ...\n",
       "251     0       0         3       139        188\n",
       "192     0       0         0       171        266\n",
       "117     0       1         0       125        174\n",
       "47      0       0         2       175        255\n",
       "172     0       0         0       165        211\n",
       "\n",
       "[202 rows x 5 columns]"
      ]
     },
     "execution_count": 51,
     "metadata": {},
     "output_type": "execute_result"
    }
   ],
   "source": [
    "X_train"
   ]
  },
  {
   "cell_type": "code",
   "execution_count": 52,
   "metadata": {},
   "outputs": [],
   "source": [
    "import pingouin as pg"
   ]
  },
  {
   "cell_type": "code",
   "execution_count": 53,
   "metadata": {},
   "outputs": [
    {
     "data": {
      "text/html": [
       "<div>\n",
       "<style scoped>\n",
       "    .dataframe tbody tr th:only-of-type {\n",
       "        vertical-align: middle;\n",
       "    }\n",
       "\n",
       "    .dataframe tbody tr th {\n",
       "        vertical-align: top;\n",
       "    }\n",
       "\n",
       "    .dataframe thead th {\n",
       "        text-align: right;\n",
       "    }\n",
       "</style>\n",
       "<table border=\"1\" class=\"dataframe\">\n",
       "  <thead>\n",
       "    <tr style=\"text-align: right;\">\n",
       "      <th></th>\n",
       "      <th>names</th>\n",
       "      <th>coef</th>\n",
       "      <th>se</th>\n",
       "      <th>z</th>\n",
       "      <th>pval</th>\n",
       "      <th>CI[2.5%]</th>\n",
       "      <th>CI[97.5%]</th>\n",
       "    </tr>\n",
       "  </thead>\n",
       "  <tbody>\n",
       "    <tr>\n",
       "      <th>0</th>\n",
       "      <td>Intercept</td>\n",
       "      <td>-3.247271</td>\n",
       "      <td>1.639643</td>\n",
       "      <td>-1.980475</td>\n",
       "      <td>0.047650</td>\n",
       "      <td>-6.460912</td>\n",
       "      <td>-0.033631</td>\n",
       "    </tr>\n",
       "    <tr>\n",
       "      <th>1</th>\n",
       "      <td>sexe</td>\n",
       "      <td>2.057060</td>\n",
       "      <td>0.482012</td>\n",
       "      <td>4.267655</td>\n",
       "      <td>0.000020</td>\n",
       "      <td>1.112334</td>\n",
       "      <td>3.001785</td>\n",
       "    </tr>\n",
       "    <tr>\n",
       "      <th>2</th>\n",
       "      <td>angine</td>\n",
       "      <td>-1.454733</td>\n",
       "      <td>0.437840</td>\n",
       "      <td>-3.322525</td>\n",
       "      <td>0.000892</td>\n",
       "      <td>-2.312883</td>\n",
       "      <td>-0.596583</td>\n",
       "    </tr>\n",
       "    <tr>\n",
       "      <th>3</th>\n",
       "      <td>vaisseau</td>\n",
       "      <td>-1.158816</td>\n",
       "      <td>0.242375</td>\n",
       "      <td>-4.781086</td>\n",
       "      <td>0.000002</td>\n",
       "      <td>-1.633862</td>\n",
       "      <td>-0.683769</td>\n",
       "    </tr>\n",
       "    <tr>\n",
       "      <th>4</th>\n",
       "      <td>taux_max</td>\n",
       "      <td>0.040823</td>\n",
       "      <td>0.010050</td>\n",
       "      <td>4.061980</td>\n",
       "      <td>0.000049</td>\n",
       "      <td>0.021125</td>\n",
       "      <td>0.060520</td>\n",
       "    </tr>\n",
       "    <tr>\n",
       "      <th>5</th>\n",
       "      <td>cholester</td>\n",
       "      <td>-0.009205</td>\n",
       "      <td>0.003685</td>\n",
       "      <td>-2.498270</td>\n",
       "      <td>0.012480</td>\n",
       "      <td>-0.016427</td>\n",
       "      <td>-0.001983</td>\n",
       "    </tr>\n",
       "  </tbody>\n",
       "</table>\n",
       "</div>"
      ],
      "text/plain": [
       "       names      coef        se         z      pval  CI[2.5%]  CI[97.5%]\n",
       "0  Intercept -3.247271  1.639643 -1.980475  0.047650 -6.460912  -0.033631\n",
       "1       sexe  2.057060  0.482012  4.267655  0.000020  1.112334   3.001785\n",
       "2     angine -1.454733  0.437840 -3.322525  0.000892 -2.312883  -0.596583\n",
       "3   vaisseau -1.158816  0.242375 -4.781086  0.000002 -1.633862  -0.683769\n",
       "4   taux_max  0.040823  0.010050  4.061980  0.000049  0.021125   0.060520\n",
       "5  cholester -0.009205  0.003685 -2.498270  0.012480 -0.016427  -0.001983"
      ]
     },
     "execution_count": 53,
     "metadata": {},
     "output_type": "execute_result"
    }
   ],
   "source": [
    "pg.logistic_regression(X_train,y_train,remove_na=True)"
   ]
  },
  {
   "cell_type": "code",
   "execution_count": 65,
   "metadata": {},
   "outputs": [],
   "source": [
    "from sklearn.linear_model import LogisticRegression"
   ]
  },
  {
   "cell_type": "code",
   "execution_count": 66,
   "metadata": {},
   "outputs": [],
   "source": [
    "logreg = LogisticRegression()"
   ]
  },
  {
   "cell_type": "code",
   "execution_count": 67,
   "metadata": {},
   "outputs": [
    {
     "data": {
      "text/plain": [
       "LogisticRegression()"
      ]
     },
     "execution_count": 67,
     "metadata": {},
     "output_type": "execute_result"
    }
   ],
   "source": [
    "logreg.fit(X_train,y_train)"
   ]
  },
  {
   "cell_type": "code",
   "execution_count": 68,
   "metadata": {},
   "outputs": [],
   "source": [
    "y_pred=logreg.predict(X_test)"
   ]
  },
  {
   "cell_type": "code",
   "execution_count": 69,
   "metadata": {},
   "outputs": [
    {
     "data": {
      "text/plain": [
       "array([[17,  4],\n",
       "       [ 9, 38]], dtype=int64)"
      ]
     },
     "execution_count": 69,
     "metadata": {},
     "output_type": "execute_result"
    }
   ],
   "source": [
    "from sklearn import metrics\n",
    "cnf_matrix = metrics.confusion_matrix(y_test, y_pred)\n",
    "cnf_matrix"
   ]
  },
  {
   "cell_type": "code",
   "execution_count": 70,
   "metadata": {},
   "outputs": [],
   "source": [
    "import statsmodels.api as sm"
   ]
  },
  {
   "cell_type": "code",
   "execution_count": 71,
   "metadata": {},
   "outputs": [
    {
     "ename": "NameError",
     "evalue": "name 'x' is not defined",
     "output_type": "error",
     "traceback": [
      "\u001b[1;31m---------------------------------------------------------------------------\u001b[0m",
      "\u001b[1;31mNameError\u001b[0m                                 Traceback (most recent call last)",
      "\u001b[1;32m<ipython-input-71-f5703b810c2e>\u001b[0m in \u001b[0;36m<module>\u001b[1;34m\u001b[0m\n\u001b[1;32m----> 1\u001b[1;33m \u001b[0mx_stat\u001b[0m \u001b[1;33m=\u001b[0m \u001b[0msm\u001b[0m\u001b[1;33m.\u001b[0m\u001b[0madd_constant\u001b[0m\u001b[1;33m(\u001b[0m\u001b[0mx\u001b[0m\u001b[1;33m)\u001b[0m\u001b[1;33m\u001b[0m\u001b[1;33m\u001b[0m\u001b[0m\n\u001b[0m",
      "\u001b[1;31mNameError\u001b[0m: name 'x' is not defined"
     ]
    }
   ],
   "source": [
    "x_stat = sm.add_constant(x)"
   ]
  },
  {
   "cell_type": "code",
   "execution_count": null,
   "metadata": {},
   "outputs": [],
   "source": []
  },
  {
   "cell_type": "code",
   "execution_count": 72,
   "metadata": {},
   "outputs": [],
   "source": [
    "model = sm.Logit(y_train, X_train)"
   ]
  },
  {
   "cell_type": "code",
   "execution_count": 73,
   "metadata": {},
   "outputs": [
    {
     "name": "stdout",
     "output_type": "stream",
     "text": [
      "Optimization terminated successfully.\n",
      "         Current function value: 0.433144\n",
      "         Iterations 7\n"
     ]
    }
   ],
   "source": [
    "result = model.fit(method='newton')"
   ]
  },
  {
   "cell_type": "code",
   "execution_count": 74,
   "metadata": {},
   "outputs": [
    {
     "data": {
      "text/html": [
       "<table class=\"simpletable\">\n",
       "<caption>Logit Regression Results</caption>\n",
       "<tr>\n",
       "  <th>Dep. Variable:</th>         <td>coeur</td>      <th>  No. Observations:  </th>  <td>   202</td>  \n",
       "</tr>\n",
       "<tr>\n",
       "  <th>Model:</th>                 <td>Logit</td>      <th>  Df Residuals:      </th>  <td>   197</td>  \n",
       "</tr>\n",
       "<tr>\n",
       "  <th>Method:</th>                 <td>MLE</td>       <th>  Df Model:          </th>  <td>     4</td>  \n",
       "</tr>\n",
       "<tr>\n",
       "  <th>Date:</th>            <td>Sun, 18 Jul 2021</td> <th>  Pseudo R-squ.:     </th>  <td>0.3749</td>  \n",
       "</tr>\n",
       "<tr>\n",
       "  <th>Time:</th>                <td>22:15:58</td>     <th>  Log-Likelihood:    </th> <td> -87.495</td> \n",
       "</tr>\n",
       "<tr>\n",
       "  <th>converged:</th>             <td>True</td>       <th>  LL-Null:           </th> <td> -139.98</td> \n",
       "</tr>\n",
       "<tr>\n",
       "  <th>Covariance Type:</th>     <td>nonrobust</td>    <th>  LLR p-value:       </th> <td>8.630e-22</td>\n",
       "</tr>\n",
       "</table>\n",
       "<table class=\"simpletable\">\n",
       "<tr>\n",
       "      <td></td>         <th>coef</th>     <th>std err</th>      <th>z</th>      <th>P>|z|</th>  <th>[0.025</th>    <th>0.975]</th>  \n",
       "</tr>\n",
       "<tr>\n",
       "  <th>sexe</th>      <td>    2.0318</td> <td>    0.482</td> <td>    4.218</td> <td> 0.000</td> <td>    1.088</td> <td>    2.976</td>\n",
       "</tr>\n",
       "<tr>\n",
       "  <th>angine</th>    <td>   -1.6402</td> <td>    0.416</td> <td>   -3.947</td> <td> 0.000</td> <td>   -2.455</td> <td>   -0.826</td>\n",
       "</tr>\n",
       "<tr>\n",
       "  <th>vaisseau</th>  <td>   -1.1936</td> <td>    0.241</td> <td>   -4.961</td> <td> 0.000</td> <td>   -1.665</td> <td>   -0.722</td>\n",
       "</tr>\n",
       "<tr>\n",
       "  <th>taux_max</th>  <td>    0.0251</td> <td>    0.006</td> <td>    4.555</td> <td> 0.000</td> <td>    0.014</td> <td>    0.036</td>\n",
       "</tr>\n",
       "<tr>\n",
       "  <th>cholester</th> <td>   -0.0122</td> <td>    0.003</td> <td>   -3.594</td> <td> 0.000</td> <td>   -0.019</td> <td>   -0.006</td>\n",
       "</tr>\n",
       "</table>"
      ],
      "text/plain": [
       "<class 'statsmodels.iolib.summary.Summary'>\n",
       "\"\"\"\n",
       "                           Logit Regression Results                           \n",
       "==============================================================================\n",
       "Dep. Variable:                  coeur   No. Observations:                  202\n",
       "Model:                          Logit   Df Residuals:                      197\n",
       "Method:                           MLE   Df Model:                            4\n",
       "Date:                Sun, 18 Jul 2021   Pseudo R-squ.:                  0.3749\n",
       "Time:                        22:15:58   Log-Likelihood:                -87.495\n",
       "converged:                       True   LL-Null:                       -139.98\n",
       "Covariance Type:            nonrobust   LLR p-value:                 8.630e-22\n",
       "==============================================================================\n",
       "                 coef    std err          z      P>|z|      [0.025      0.975]\n",
       "------------------------------------------------------------------------------\n",
       "sexe           2.0318      0.482      4.218      0.000       1.088       2.976\n",
       "angine        -1.6402      0.416     -3.947      0.000      -2.455      -0.826\n",
       "vaisseau      -1.1936      0.241     -4.961      0.000      -1.665      -0.722\n",
       "taux_max       0.0251      0.006      4.555      0.000       0.014       0.036\n",
       "cholester     -0.0122      0.003     -3.594      0.000      -0.019      -0.006\n",
       "==============================================================================\n",
       "\"\"\""
      ]
     },
     "execution_count": 74,
     "metadata": {},
     "output_type": "execute_result"
    }
   ],
   "source": [
    "result.summary()"
   ]
  },
  {
   "cell_type": "code",
   "execution_count": 75,
   "metadata": {},
   "outputs": [
    {
     "data": {
      "text/html": [
       "<table class=\"simpletable\">\n",
       "<tr>\n",
       "        <td>Model:</td>              <td>Logit</td>      <td>Pseudo R-squared:</td>    <td>0.375</td>  \n",
       "</tr>\n",
       "<tr>\n",
       "  <td>Dependent Variable:</td>       <td>coeur</td>            <td>AIC:</td>         <td>184.9903</td> \n",
       "</tr>\n",
       "<tr>\n",
       "         <td>Date:</td>        <td>2021-07-18 22:16</td>       <td>BIC:</td>         <td>201.5316</td> \n",
       "</tr>\n",
       "<tr>\n",
       "   <td>No. Observations:</td>         <td>202</td>        <td>Log-Likelihood:</td>    <td>-87.495</td> \n",
       "</tr>\n",
       "<tr>\n",
       "       <td>Df Model:</td>              <td>4</td>            <td>LL-Null:</td>        <td>-139.98</td> \n",
       "</tr>\n",
       "<tr>\n",
       "     <td>Df Residuals:</td>           <td>197</td>         <td>LLR p-value:</td>    <td>8.6297e-22</td>\n",
       "</tr>\n",
       "<tr>\n",
       "      <td>Converged:</td>           <td>1.0000</td>           <td>Scale:</td>         <td>1.0000</td>  \n",
       "</tr>\n",
       "<tr>\n",
       "    <td>No. Iterations:</td>        <td>7.0000</td>              <td></td>               <td></td>     \n",
       "</tr>\n",
       "</table>\n",
       "<table class=\"simpletable\">\n",
       "<tr>\n",
       "      <td></td>       <th>Coef.</th>  <th>Std.Err.</th>    <th>z</th>     <th>P>|z|</th> <th>[0.025</th>  <th>0.975]</th> \n",
       "</tr>\n",
       "<tr>\n",
       "  <th>sexe</th>      <td>2.0318</td>   <td>0.4817</td>  <td>4.2182</td>  <td>0.0000</td> <td>1.0877</td>  <td>2.9758</td> \n",
       "</tr>\n",
       "<tr>\n",
       "  <th>angine</th>    <td>-1.6402</td>  <td>0.4156</td>  <td>-3.9466</td> <td>0.0001</td> <td>-2.4547</td> <td>-0.8256</td>\n",
       "</tr>\n",
       "<tr>\n",
       "  <th>vaisseau</th>  <td>-1.1936</td>  <td>0.2406</td>  <td>-4.9615</td> <td>0.0000</td> <td>-1.6651</td> <td>-0.7221</td>\n",
       "</tr>\n",
       "<tr>\n",
       "  <th>taux_max</th>  <td>0.0251</td>   <td>0.0055</td>  <td>4.5547</td>  <td>0.0000</td> <td>0.0143</td>  <td>0.0359</td> \n",
       "</tr>\n",
       "<tr>\n",
       "  <th>cholester</th> <td>-0.0122</td>  <td>0.0034</td>  <td>-3.5937</td> <td>0.0003</td> <td>-0.0188</td> <td>-0.0055</td>\n",
       "</tr>\n",
       "</table>"
      ],
      "text/plain": [
       "<class 'statsmodels.iolib.summary2.Summary'>\n",
       "\"\"\"\n",
       "                         Results: Logit\n",
       "=================================================================\n",
       "Model:              Logit            Pseudo R-squared: 0.375     \n",
       "Dependent Variable: coeur            AIC:              184.9903  \n",
       "Date:               2021-07-18 22:16 BIC:              201.5316  \n",
       "No. Observations:   202              Log-Likelihood:   -87.495   \n",
       "Df Model:           4                LL-Null:          -139.98   \n",
       "Df Residuals:       197              LLR p-value:      8.6297e-22\n",
       "Converged:          1.0000           Scale:            1.0000    \n",
       "No. Iterations:     7.0000                                       \n",
       "------------------------------------------------------------------\n",
       "               Coef.   Std.Err.     z     P>|z|    [0.025   0.975]\n",
       "------------------------------------------------------------------\n",
       "sexe           2.0318    0.4817   4.2182  0.0000   1.0877   2.9758\n",
       "angine        -1.6402    0.4156  -3.9466  0.0001  -2.4547  -0.8256\n",
       "vaisseau      -1.1936    0.2406  -4.9615  0.0000  -1.6651  -0.7221\n",
       "taux_max       0.0251    0.0055   4.5547  0.0000   0.0143   0.0359\n",
       "cholester     -0.0122    0.0034  -3.5937  0.0003  -0.0188  -0.0055\n",
       "=================================================================\n",
       "\n",
       "\"\"\""
      ]
     },
     "execution_count": 75,
     "metadata": {},
     "output_type": "execute_result"
    }
   ],
   "source": [
    " result.summary2()"
   ]
  },
  {
   "cell_type": "code",
   "execution_count": 76,
   "metadata": {},
   "outputs": [],
   "source": [
    "from sklearn import linear_model"
   ]
  },
  {
   "cell_type": "code",
   "execution_count": 80,
   "metadata": {},
   "outputs": [
    {
     "name": "stdout",
     "output_type": "stream",
     "text": [
      "79.41176470588235\n"
     ]
    }
   ],
   "source": [
    "modele_regLog = linear_model.LogisticRegression(random_state = 0,\n",
    "solver = 'liblinear', multi_class = 'auto')\n",
    "modele_regLog.fit(X_train,y_train)\n",
    "precision = modele_regLog.score(X_test,y_test)\n",
    "print(precision*100)"
   ]
  },
  {
   "cell_type": "code",
   "execution_count": 147,
   "metadata": {},
   "outputs": [
    {
     "name": "stdout",
     "output_type": "stream",
     "text": [
      "{0: 'presence', 1: 'absence'}\n"
     ]
    },
    {
     "ename": "ValueError",
     "evalue": "X has 11 features per sample; expecting 4",
     "output_type": "error",
     "traceback": [
      "\u001b[1;31m---------------------------------------------------------------------------\u001b[0m",
      "\u001b[1;31mValueError\u001b[0m                                Traceback (most recent call last)",
      "\u001b[1;32m<ipython-input-147-9377c464e77f>\u001b[0m in \u001b[0;36m<module>\u001b[1;34m\u001b[0m\n\u001b[0;32m      2\u001b[0m \u001b[0mcoeur_cible\u001b[0m \u001b[1;33m=\u001b[0m \u001b[0mdict\u001b[0m\u001b[1;33m(\u001b[0m \u001b[0mzip\u001b[0m \u001b[1;33m(\u001b[0m\u001b[0mtable9\u001b[0m\u001b[1;33m.\u001b[0m\u001b[0mcoeur\u001b[0m\u001b[1;33m.\u001b[0m\u001b[0munique\u001b[0m\u001b[1;33m(\u001b[0m\u001b[1;33m)\u001b[0m\u001b[1;33m,\u001b[0m \u001b[0mtable\u001b[0m\u001b[1;33m.\u001b[0m\u001b[0mcoeur\u001b[0m\u001b[1;33m.\u001b[0m\u001b[0munique\u001b[0m\u001b[1;33m(\u001b[0m\u001b[1;33m)\u001b[0m\u001b[1;33m)\u001b[0m\u001b[1;33m)\u001b[0m\u001b[1;33m\u001b[0m\u001b[1;33m\u001b[0m\u001b[0m\n\u001b[0;32m      3\u001b[0m \u001b[0mprint\u001b[0m\u001b[1;33m(\u001b[0m \u001b[0mcoeur_cible\u001b[0m \u001b[1;33m)\u001b[0m\u001b[1;33m\u001b[0m\u001b[1;33m\u001b[0m\u001b[0m\n\u001b[1;32m----> 4\u001b[1;33m \u001b[0mprediction_coeur\u001b[0m \u001b[1;33m=\u001b[0m \u001b[0mmodele_regLog\u001b[0m\u001b[1;33m.\u001b[0m\u001b[0mpredict\u001b[0m\u001b[1;33m(\u001b[0m\u001b[1;33m[\u001b[0m\u001b[1;33m[\u001b[0m\u001b[1;36m42\u001b[0m\u001b[1;33m,\u001b[0m\u001b[1;36m25\u001b[0m\u001b[1;33m,\u001b[0m\u001b[1;36m150\u001b[0m\u001b[1;33m,\u001b[0m\u001b[1;36m201\u001b[0m\u001b[1;33m,\u001b[0m\u001b[1;36m1\u001b[0m\u001b[1;33m,\u001b[0m\u001b[1;36m1\u001b[0m\u001b[1;33m,\u001b[0m\u001b[1;36m100\u001b[0m\u001b[1;33m,\u001b[0m\u001b[1;36m0\u001b[0m\u001b[1;33m,\u001b[0m\u001b[1;36m22\u001b[0m\u001b[1;33m,\u001b[0m\u001b[1;36m2\u001b[0m\u001b[1;33m,\u001b[0m\u001b[1;36m1\u001b[0m\u001b[1;33m]\u001b[0m\u001b[1;33m]\u001b[0m\u001b[1;33m)\u001b[0m\u001b[1;33m\u001b[0m\u001b[1;33m\u001b[0m\u001b[0m\n\u001b[0m\u001b[0;32m      5\u001b[0m \u001b[0mcoeur_cible\u001b[0m\u001b[1;33m[\u001b[0m\u001b[0mprediction_coeur\u001b[0m\u001b[1;33m[\u001b[0m\u001b[1;36m0\u001b[0m\u001b[1;33m]\u001b[0m\u001b[1;33m]\u001b[0m\u001b[1;33m\u001b[0m\u001b[1;33m\u001b[0m\u001b[0m\n",
      "\u001b[1;32mC:\\ProgramData\\Anaconda3\\lib\\site-packages\\sklearn\\linear_model\\_base.py\u001b[0m in \u001b[0;36mpredict\u001b[1;34m(self, X)\u001b[0m\n\u001b[0;32m    305\u001b[0m             \u001b[0mPredicted\u001b[0m \u001b[1;32mclass\u001b[0m \u001b[0mlabel\u001b[0m \u001b[0mper\u001b[0m \u001b[0msample\u001b[0m\u001b[1;33m.\u001b[0m\u001b[1;33m\u001b[0m\u001b[1;33m\u001b[0m\u001b[0m\n\u001b[0;32m    306\u001b[0m         \"\"\"\n\u001b[1;32m--> 307\u001b[1;33m         \u001b[0mscores\u001b[0m \u001b[1;33m=\u001b[0m \u001b[0mself\u001b[0m\u001b[1;33m.\u001b[0m\u001b[0mdecision_function\u001b[0m\u001b[1;33m(\u001b[0m\u001b[0mX\u001b[0m\u001b[1;33m)\u001b[0m\u001b[1;33m\u001b[0m\u001b[1;33m\u001b[0m\u001b[0m\n\u001b[0m\u001b[0;32m    308\u001b[0m         \u001b[1;32mif\u001b[0m \u001b[0mlen\u001b[0m\u001b[1;33m(\u001b[0m\u001b[0mscores\u001b[0m\u001b[1;33m.\u001b[0m\u001b[0mshape\u001b[0m\u001b[1;33m)\u001b[0m \u001b[1;33m==\u001b[0m \u001b[1;36m1\u001b[0m\u001b[1;33m:\u001b[0m\u001b[1;33m\u001b[0m\u001b[1;33m\u001b[0m\u001b[0m\n\u001b[0;32m    309\u001b[0m             \u001b[0mindices\u001b[0m \u001b[1;33m=\u001b[0m \u001b[1;33m(\u001b[0m\u001b[0mscores\u001b[0m \u001b[1;33m>\u001b[0m \u001b[1;36m0\u001b[0m\u001b[1;33m)\u001b[0m\u001b[1;33m.\u001b[0m\u001b[0mastype\u001b[0m\u001b[1;33m(\u001b[0m\u001b[0mnp\u001b[0m\u001b[1;33m.\u001b[0m\u001b[0mint\u001b[0m\u001b[1;33m)\u001b[0m\u001b[1;33m\u001b[0m\u001b[1;33m\u001b[0m\u001b[0m\n",
      "\u001b[1;32mC:\\ProgramData\\Anaconda3\\lib\\site-packages\\sklearn\\linear_model\\_base.py\u001b[0m in \u001b[0;36mdecision_function\u001b[1;34m(self, X)\u001b[0m\n\u001b[0;32m    284\u001b[0m         \u001b[0mn_features\u001b[0m \u001b[1;33m=\u001b[0m \u001b[0mself\u001b[0m\u001b[1;33m.\u001b[0m\u001b[0mcoef_\u001b[0m\u001b[1;33m.\u001b[0m\u001b[0mshape\u001b[0m\u001b[1;33m[\u001b[0m\u001b[1;36m1\u001b[0m\u001b[1;33m]\u001b[0m\u001b[1;33m\u001b[0m\u001b[1;33m\u001b[0m\u001b[0m\n\u001b[0;32m    285\u001b[0m         \u001b[1;32mif\u001b[0m \u001b[0mX\u001b[0m\u001b[1;33m.\u001b[0m\u001b[0mshape\u001b[0m\u001b[1;33m[\u001b[0m\u001b[1;36m1\u001b[0m\u001b[1;33m]\u001b[0m \u001b[1;33m!=\u001b[0m \u001b[0mn_features\u001b[0m\u001b[1;33m:\u001b[0m\u001b[1;33m\u001b[0m\u001b[1;33m\u001b[0m\u001b[0m\n\u001b[1;32m--> 286\u001b[1;33m             raise ValueError(\"X has %d features per sample; expecting %d\"\n\u001b[0m\u001b[0;32m    287\u001b[0m                              % (X.shape[1], n_features))\n\u001b[0;32m    288\u001b[0m \u001b[1;33m\u001b[0m\u001b[0m\n",
      "\u001b[1;31mValueError\u001b[0m: X has 11 features per sample; expecting 4"
     ]
    }
   ],
   "source": [
    "#prédiction\n",
    "coeur_cible = dict( zip (table9.coeur.unique(), table.coeur.unique()))\n",
    "print( coeur_cible )\n",
    "prediction_coeur = modele_regLog.predict([[42,25,150,201,1,1,100,0,22,2,1]])\n",
    "coeur_cible[prediction_coeur[0]]"
   ]
  },
  {
   "cell_type": "code",
   "execution_count": 99,
   "metadata": {},
   "outputs": [
    {
     "data": {
      "text/html": [
       "<div>\n",
       "<style scoped>\n",
       "    .dataframe tbody tr th:only-of-type {\n",
       "        vertical-align: middle;\n",
       "    }\n",
       "\n",
       "    .dataframe tbody tr th {\n",
       "        vertical-align: top;\n",
       "    }\n",
       "\n",
       "    .dataframe thead th {\n",
       "        text-align: right;\n",
       "    }\n",
       "</style>\n",
       "<table border=\"1\" class=\"dataframe\">\n",
       "  <thead>\n",
       "    <tr style=\"text-align: right;\">\n",
       "      <th></th>\n",
       "      <th>age</th>\n",
       "      <th>sexe</th>\n",
       "      <th>pression</th>\n",
       "      <th>cholester</th>\n",
       "      <th>sucre</th>\n",
       "      <th>electro</th>\n",
       "      <th>taux_max</th>\n",
       "      <th>angine</th>\n",
       "      <th>depression</th>\n",
       "      <th>pic</th>\n",
       "      <th>vaisseau</th>\n",
       "      <th>coeur</th>\n",
       "    </tr>\n",
       "  </thead>\n",
       "  <tbody>\n",
       "    <tr>\n",
       "      <th>0</th>\n",
       "      <td>58</td>\n",
       "      <td>masculin</td>\n",
       "      <td>100</td>\n",
       "      <td>234</td>\n",
       "      <td>A</td>\n",
       "      <td>A</td>\n",
       "      <td>156</td>\n",
       "      <td>non</td>\n",
       "      <td>1</td>\n",
       "      <td>1</td>\n",
       "      <td>B</td>\n",
       "      <td>presence</td>\n",
       "    </tr>\n",
       "    <tr>\n",
       "      <th>1</th>\n",
       "      <td>41</td>\n",
       "      <td>feminin</td>\n",
       "      <td>130</td>\n",
       "      <td>204</td>\n",
       "      <td>A</td>\n",
       "      <td>C</td>\n",
       "      <td>172</td>\n",
       "      <td>non</td>\n",
       "      <td>14</td>\n",
       "      <td>1</td>\n",
       "      <td>A</td>\n",
       "      <td>absence</td>\n",
       "    </tr>\n",
       "    <tr>\n",
       "      <th>2</th>\n",
       "      <td>58</td>\n",
       "      <td>masculin</td>\n",
       "      <td>150</td>\n",
       "      <td>270</td>\n",
       "      <td>A</td>\n",
       "      <td>C</td>\n",
       "      <td>111</td>\n",
       "      <td>oui</td>\n",
       "      <td>8</td>\n",
       "      <td>1</td>\n",
       "      <td>A</td>\n",
       "      <td>presence</td>\n",
       "    </tr>\n",
       "    <tr>\n",
       "      <th>3</th>\n",
       "      <td>53</td>\n",
       "      <td>masculin</td>\n",
       "      <td>140</td>\n",
       "      <td>203</td>\n",
       "      <td>B</td>\n",
       "      <td>C</td>\n",
       "      <td>155</td>\n",
       "      <td>oui</td>\n",
       "      <td>31</td>\n",
       "      <td>3</td>\n",
       "      <td>A</td>\n",
       "      <td>presence</td>\n",
       "    </tr>\n",
       "    <tr>\n",
       "      <th>4</th>\n",
       "      <td>41</td>\n",
       "      <td>masculin</td>\n",
       "      <td>130</td>\n",
       "      <td>214</td>\n",
       "      <td>A</td>\n",
       "      <td>C</td>\n",
       "      <td>168</td>\n",
       "      <td>non</td>\n",
       "      <td>20</td>\n",
       "      <td>2</td>\n",
       "      <td>A</td>\n",
       "      <td>absence</td>\n",
       "    </tr>\n",
       "    <tr>\n",
       "      <th>...</th>\n",
       "      <td>...</td>\n",
       "      <td>...</td>\n",
       "      <td>...</td>\n",
       "      <td>...</td>\n",
       "      <td>...</td>\n",
       "      <td>...</td>\n",
       "      <td>...</td>\n",
       "      <td>...</td>\n",
       "      <td>...</td>\n",
       "      <td>...</td>\n",
       "      <td>...</td>\n",
       "      <td>...</td>\n",
       "    </tr>\n",
       "    <tr>\n",
       "      <th>265</th>\n",
       "      <td>62</td>\n",
       "      <td>feminin</td>\n",
       "      <td>140</td>\n",
       "      <td>268</td>\n",
       "      <td>A</td>\n",
       "      <td>C</td>\n",
       "      <td>160</td>\n",
       "      <td>non</td>\n",
       "      <td>36</td>\n",
       "      <td>3</td>\n",
       "      <td>C</td>\n",
       "      <td>presence</td>\n",
       "    </tr>\n",
       "    <tr>\n",
       "      <th>266</th>\n",
       "      <td>62</td>\n",
       "      <td>masculin</td>\n",
       "      <td>130</td>\n",
       "      <td>231</td>\n",
       "      <td>A</td>\n",
       "      <td>A</td>\n",
       "      <td>146</td>\n",
       "      <td>non</td>\n",
       "      <td>18</td>\n",
       "      <td>2</td>\n",
       "      <td>D</td>\n",
       "      <td>absence</td>\n",
       "    </tr>\n",
       "    <tr>\n",
       "      <th>267</th>\n",
       "      <td>64</td>\n",
       "      <td>masculin</td>\n",
       "      <td>110</td>\n",
       "      <td>211</td>\n",
       "      <td>A</td>\n",
       "      <td>C</td>\n",
       "      <td>144</td>\n",
       "      <td>oui</td>\n",
       "      <td>18</td>\n",
       "      <td>2</td>\n",
       "      <td>A</td>\n",
       "      <td>absence</td>\n",
       "    </tr>\n",
       "    <tr>\n",
       "      <th>268</th>\n",
       "      <td>63</td>\n",
       "      <td>feminin</td>\n",
       "      <td>150</td>\n",
       "      <td>407</td>\n",
       "      <td>A</td>\n",
       "      <td>C</td>\n",
       "      <td>154</td>\n",
       "      <td>non</td>\n",
       "      <td>40</td>\n",
       "      <td>2</td>\n",
       "      <td>D</td>\n",
       "      <td>presence</td>\n",
       "    </tr>\n",
       "    <tr>\n",
       "      <th>269</th>\n",
       "      <td>35</td>\n",
       "      <td>feminin</td>\n",
       "      <td>138</td>\n",
       "      <td>183</td>\n",
       "      <td>A</td>\n",
       "      <td>A</td>\n",
       "      <td>182</td>\n",
       "      <td>non</td>\n",
       "      <td>14</td>\n",
       "      <td>1</td>\n",
       "      <td>A</td>\n",
       "      <td>absence</td>\n",
       "    </tr>\n",
       "  </tbody>\n",
       "</table>\n",
       "<p>270 rows × 12 columns</p>\n",
       "</div>"
      ],
      "text/plain": [
       "     age      sexe  pression  cholester sucre electro  taux_max angine  \\\n",
       "0     58  masculin       100        234     A       A       156    non   \n",
       "1     41   feminin       130        204     A       C       172    non   \n",
       "2     58  masculin       150        270     A       C       111    oui   \n",
       "3     53  masculin       140        203     B       C       155    oui   \n",
       "4     41  masculin       130        214     A       C       168    non   \n",
       "..   ...       ...       ...        ...   ...     ...       ...    ...   \n",
       "265   62   feminin       140        268     A       C       160    non   \n",
       "266   62  masculin       130        231     A       A       146    non   \n",
       "267   64  masculin       110        211     A       C       144    oui   \n",
       "268   63   feminin       150        407     A       C       154    non   \n",
       "269   35   feminin       138        183     A       A       182    non   \n",
       "\n",
       "     depression  pic vaisseau     coeur  \n",
       "0             1    1        B  presence  \n",
       "1            14    1        A   absence  \n",
       "2             8    1        A  presence  \n",
       "3            31    3        A  presence  \n",
       "4            20    2        A   absence  \n",
       "..          ...  ...      ...       ...  \n",
       "265          36    3        C  presence  \n",
       "266          18    2        D   absence  \n",
       "267          18    2        A   absence  \n",
       "268          40    2        D  presence  \n",
       "269          14    1        A   absence  \n",
       "\n",
       "[270 rows x 12 columns]"
      ]
     },
     "execution_count": 99,
     "metadata": {},
     "output_type": "execute_result"
    }
   ],
   "source": [
    "table\n",
    "X=table9[['age','sexe','pression','cholester', 'sucre', 'electro', 'taux_max', 'angine', 'depression', 'pic', 'vaisseau']]\n",
    "y=table9['coeur']"
   ]
  },
  {
   "cell_type": "code",
   "execution_count": 78,
   "metadata": {},
   "outputs": [
    {
     "name": "stdout",
     "output_type": "stream",
     "text": [
      "[[17  4]\n",
      " [ 9 38]]\n"
     ]
    }
   ],
   "source": [
    "from sklearn.metrics import confusion_matrix\n",
    "confusion_matrix = confusion_matrix(y_test, y_pred)\n",
    "print(confusion_matrix)"
   ]
  },
  {
   "cell_type": "code",
   "execution_count": 79,
   "metadata": {},
   "outputs": [
    {
     "name": "stdout",
     "output_type": "stream",
     "text": [
      "{0: 'presence', 1: 'absence'}\n"
     ]
    },
    {
     "data": {
      "text/plain": [
       "'absence'"
      ]
     },
     "execution_count": 79,
     "metadata": {},
     "output_type": "execute_result"
    }
   ],
   "source": [
    "#prédiction\n",
    "coeur_cible = dict( zip (table9.coeur.unique(), table.coeur.unique()))\n",
    "print( coeur_cible )\n",
    "prediction_coeur = modele_regLog.predict([[1,0,0,172,204]])\n",
    "coeur_cible[prediction_coeur[0]]"
   ]
  },
  {
   "cell_type": "code",
   "execution_count": null,
   "metadata": {},
   "outputs": [],
   "source": []
  }
 ],
 "metadata": {
  "kernelspec": {
   "display_name": "Python 3",
   "language": "python",
   "name": "python3"
  },
  "language_info": {
   "codemirror_mode": {
    "name": "ipython",
    "version": 3
   },
   "file_extension": ".py",
   "mimetype": "text/x-python",
   "name": "python",
   "nbconvert_exporter": "python",
   "pygments_lexer": "ipython3",
   "version": "3.8.5"
  }
 },
 "nbformat": 4,
 "nbformat_minor": 4
}
